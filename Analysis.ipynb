{
 "cells": [
  {
   "cell_type": "markdown",
   "metadata": {},
   "source": [
    "# Polarizing Words"
   ]
  },
  {
   "cell_type": "code",
   "execution_count": 1,
   "metadata": {},
   "outputs": [],
   "source": [
    "import pickle\n",
    "import dill\n",
    "import pandas as pd\n",
    "from heapq import nlargest, nsmallest\n",
    "import matplotlib.pyplot as plt"
   ]
  },
  {
   "cell_type": "code",
   "execution_count": 2,
   "metadata": {},
   "outputs": [],
   "source": [
    "def most_polarizing_words(model, countVectorizer, n):\n",
    "    print('coefficient shape', model.coef_.shape)\n",
    "    print('coefficients', model.coef_[:10])\n",
    "    if model.coef_.shape[0] == 1:\n",
    "        coefficients = [(i,c) for i,c in enumerate(model.coef_[0])]\n",
    "    else:\n",
    "        coefficients = [(i,c) for i,c in enumerate(model.coef_[1])]\n",
    "\n",
    "    id2word = countVectorizer.get_feature_names()\n",
    "    strongest_positive = [(id2word[i],coef) for i,coef in nlargest(n, coefficients[::], key=lambda x: x[1])]\n",
    "    strongest_negative = [(id2word[i],coef) for i,coef in nsmallest(n, coefficients, key=lambda x: x[1])]\n",
    "    print('\\n Most positive words were:') \n",
    "    for (word,coef) in strongest_positive:\n",
    "        print('{}: {}'.format(word, coef))\n",
    "    print('\\n Most negative words were:') \n",
    "    for (word,coef) in strongest_negative:\n",
    "        print('{}: {}'.format(word, coef))\n",
    "    return strongest_positive, strongest_negative"
   ]
  },
  {
   "cell_type": "code",
   "execution_count": 3,
   "metadata": {
    "scrolled": true
   },
   "outputs": [
    {
     "name": "stdout",
     "output_type": "stream",
     "text": [
      "CountVectorizer(analyzer='word', binary=False, decode_error='strict',\n",
      "                dtype=<class 'numpy.int64'>, encoding='utf-8', input='content',\n",
      "                lowercase=True, max_df=1.0, max_features=10000, min_df=1,\n",
      "                ngram_range=(1, 1), preprocessor=None, stop_words=None,\n",
      "                strip_accents=None, token_pattern='(?u)\\\\b\\\\w\\\\w+\\\\b',\n",
      "                tokenizer=None, vocabulary=None)\n",
      "TfidfTransformer(norm='l2', smooth_idf=True, sublinear_tf=False, use_idf=True)\n"
     ]
    }
   ],
   "source": [
    "with open('model.pkl', 'rb') as f:\n",
    "    model = pickle.load(f)\n",
    "countVectorizer = dill.load(open('countVectorizer.pk', 'rb'))\n",
    "tfidfVectorizer = dill.load(open('tfidfVectorizer.pk', 'rb'))\n",
    "print(countVectorizer)\n",
    "print(tfidfVectorizer)"
   ]
  },
  {
   "cell_type": "code",
   "execution_count": 5,
   "metadata": {},
   "outputs": [
    {
     "name": "stdout",
     "output_type": "stream",
     "text": [
      "('india', 1.8572213605885772)\n",
      "('modi', 1.698891131513202)\n",
      "('delhi', 1.6528593577811521)\n",
      "('minister', 1.6382838348175985)\n",
      "('indiafightscorona', 1.6245966578459727)\n",
      "('total', 1.602195243876359)\n",
      "('pakistan', 1.5973227569728095)\n",
      "('washyourhands', 1.5930055454912195)\n",
      "('indians', 1.585537999142344)\n",
      "('deaths', 1.5681793789843586)\n",
      "('against', 1.5654016285583336)\n",
      "('coronavid19', 1.5520839635756414)\n",
      "('coronavirusoutbreak', 1.5487192837681087)\n",
      "('religion', 1.5451295944119556)\n",
      "('nigeria', 1.5412998278420997)\n",
      "('coronavirusupdates', 1.5314208643971856)\n",
      "('maharashtra', 1.529854639434887)\n",
      "('muslims', 1.5289848930921794)\n",
      "('govt', 1.5257559003217753)\n",
      "('hai', 1.5210578695352168)\n"
     ]
    },
    {
     "data": {
      "text/plain": [
       "[('ima', 0.6168695580738436),\n",
       " ('bitch', 0.6214128806929923),\n",
       " ('shit', 0.6431218727875281),\n",
       " ('niggas', 0.645962809317269),\n",
       " ('bday', 0.6501839164502041),\n",
       " ('tattoo', 0.6542194944724838),\n",
       " ('fuck', 0.6583893750551915),\n",
       " ('im', 0.6607261573393413),\n",
       " ('summer', 0.6619628791609673),\n",
       " ('ruining', 0.662686771177112),\n",
       " ('allergies', 0.6629529723451634),\n",
       " ('cardi', 0.664393537029292),\n",
       " ('imma', 0.6657470976544845),\n",
       " ('nigga', 0.6661107583072404),\n",
       " ('ruined', 0.6703907990363203),\n",
       " ('dawg', 0.6720469169750934),\n",
       " ('homies', 0.6736999025348349),\n",
       " ('tryna', 0.6763186827998814),\n",
       " ('birthday', 0.6766771450440043),\n",
       " ('aint', 0.6766789944374383)]"
      ]
     },
     "execution_count": 5,
     "metadata": {},
     "output_type": "execute_result"
    }
   ],
   "source": [
    "import math\n",
    "import numpy as np\n",
    "\n",
    "n = 20\n",
    "threshold = 0\n",
    "counts = np.sum(model.feature_count_,axis=0)\n",
    "id2word = np.array(countVectorizer.get_feature_names())[counts > threshold]\n",
    "coefficients = (model.feature_log_prob_[0] / model.feature_log_prob_[1])[counts > threshold]\n",
    "sorted_coef = (sorted([(id2word[i],c) for i,c in enumerate(coefficients)], key=lambda x:x[1]))\n",
    "\n",
    "for word in sorted_coef[-n:][::-1]:\n",
    "    print(word)\n",
    "sorted_coef[:n]"
   ]
  },
  {
   "cell_type": "markdown",
   "metadata": {},
   "source": [
    "# Analysis using model"
   ]
  },
  {
   "cell_type": "code",
   "execution_count": null,
   "metadata": {},
   "outputs": [],
   "source": [
    "\n",
    "# store vectorizers and model\n",
    "dill.dump(countVectorizer, open('countVectorizer.pk', 'wb'))\n",
    "dill.dump(tfidfVectorizer, open('tfidfVectorizer.pk', 'wb'))\n",
    "with open('model.pkl', 'wb') as f:\n",
    "    pickle.dump(model, f)\n",
    "\n",
    "# load vectorizers and model\n",
    "with open('model.pkl', 'rb') as f:\n",
    "    model = pickle.load(f)\n",
    "countVectorizer = dill.load(open('countVectorizer.pk', 'rb'))\n",
    "tfidfVectorizer = dill.load(open('tfidfVectorizer.pk', 'rb'))"
   ]
  }
 ],
 "metadata": {
  "kernelspec": {
   "display_name": "Python 3",
   "language": "python",
   "name": "python3"
  },
  "language_info": {
   "codemirror_mode": {
    "name": "ipython",
    "version": 3
   },
   "file_extension": ".py",
   "mimetype": "text/x-python",
   "name": "python",
   "nbconvert_exporter": "python",
   "pygments_lexer": "ipython3",
   "version": "3.7.7"
  }
 },
 "nbformat": 4,
 "nbformat_minor": 4
}
